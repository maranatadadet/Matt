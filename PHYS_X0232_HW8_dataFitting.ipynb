{
 "cells": [
  {
   "cell_type": "code",
   "execution_count": 3,
   "metadata": {},
   "outputs": [],
   "source": [
    "%matplotlib inline\n",
    "# the above line is literally called magic. it basically is\n",
    "# it helps with plotting in the notebooks\n",
    "\n",
    "# we're going to need all of these so lets import now\n",
    "# best practice of course is to do this in the first cell\n",
    "import numpy as np  # common convention, lets stick to it\n",
    "import scipy.optimize as opt  # we'll need this for fitting!\n",
    "from matplotlib import pyplot as plt # also the common convention"
   ]
  },
  {
   "cell_type": "code",
   "execution_count": 4,
   "metadata": {},
   "outputs": [
    {
     "data": {
      "text/plain": [
       "<matplotlib.collections.PathCollection at 0x1020bcc4e0>"
      ]
     },
     "execution_count": 4,
     "metadata": {},
     "output_type": "execute_result"
    },
    {
     "data": {
      "image/png": "[encoded data removed]",
      "text/plain": [
       "<Figure size 432x288 with 1 Axes>"
      ]
     },
     "metadata": {
      "needs_background": "light"
     },
     "output_type": "display_data"
    }
   ],
   "source": [
    "# start with linear data\n",
    "# lets make a function that makes a line!\n",
    "\n",
    "def line(x, m, b):\n",
    "    # the order of these arguments is important later\n",
    "    # and good practice\n",
    "    # the x input is first because we will pass many x points\n",
    "\n",
    "    return m * x + b  # as expected\n",
    "\n",
    "\n",
    "x_data = np.arange(0, 10, 0.1)  # from 0 to 10 in steps of 0.1\n",
    "y_data = line(x_data, 2, 0)\n",
    "\n",
    "plt.scatter(x_data, y_data)"
   ]
  },
  {
   "cell_type": "code",
   "execution_count": 5,
   "metadata": {},
   "outputs": [
    {
     "data": {
      "text/plain": [
       "[<matplotlib.lines.Line2D at 0x1020bfad68>]"
      ]
     },
     "execution_count": 5,
     "metadata": {},
     "output_type": "execute_result"
    },
    {
     "data": {
      "image/png": "[encoded data removed]",
      "text/plain": [
       "<Figure size 432x288 with 1 Axes>"
      ]
     },
     "metadata": {
      "needs_background": "light"
     },
     "output_type": "display_data"
    }
   ],
   "source": [
    "# boring but that's the point\n",
    "# lets make something that looks like real data\n",
    "\n",
    "x_data = np.arange(0, 10, 0.1)\n",
    "\n",
    "# data isn't evenly spaced\n",
    "# we're going to randomly choose points to keep\n",
    "# we create a random array of boolean values\n",
    "# then \"slice\" x_data; only the indices where cut is true will be kept\n",
    "cut = np.random.choice(a=[False, True], size=x_data.shape)\n",
    "x_data = x_data[cut]\n",
    "\n",
    "y_data = line(x_data, 2, 0)\n",
    "\n",
    "# cool but still a perfect line\n",
    "# lets add noise\n",
    "\n",
    "y_data_noisy = y_data + np.random.randn(len(y_data)) * 2\n",
    "\n",
    "plt.scatter(x_data, y_data_noisy, c='b')\n",
    "plt.plot(x_data, y_data, c='r')"
   ]
  },
  {
   "cell_type": "code",
   "execution_count": 7,
   "metadata": {},
   "outputs": [
    {
     "name": "stdout",
     "output_type": "stream",
     "text": [
      "2.01764176348374 -0.3473787918894289\n",
      "[ 2.01764176 -0.34737879]\n",
      "2.01764176348374 -0.3473787918894289\n"
     ]
    },
    {
     "data": {
      "text/plain": [
       "[<matplotlib.lines.Line2D at 0x10212129e8>]"
      ]
     },
     "execution_count": 7,
     "metadata": {},
     "output_type": "execute_result"
    },
    {
     "data": {
      "image/png": "[encoded data removed]",
      "text/plain": [
       "<Figure size 432x288 with 1 Axes>"
      ]
     },
     "metadata": {
      "needs_background": "light"
     },
     "output_type": "display_data"
    }
   ],
   "source": [
    "# now suppose we don't have y_data and know m or b, as usually happens\n",
    "# that's where fitting comes in!\n",
    "\n",
    "popt, pcov = opt.curve_fit(line, x_data, y_data_noisy)\n",
    "\n",
    "print(*popt)  # woah what's that *!?\n",
    "# \"Starred\" expressions are very handy in python\n",
    "# it means \"unpack\" basically. \n",
    "# *popt is short hand for popt[0], popt[1], ... , popt[n]\n",
    "# in this case its just 0 and 1, but this saves lots of typing!\n",
    "# of course this is equivalent to the long version, as can be seen\n",
    "print(popt)\n",
    "print(popt[0], popt[1])\n",
    "\n",
    "\n",
    "plt.scatter(x_data, y_data_noisy, c='b')\n",
    "plt.plot(x_data, line(x_data, *popt), c='r')"
   ]
  },
  {
   "cell_type": "code",
   "execution_count": 15,
   "metadata": {},
   "outputs": [
    {
     "name": "stdout",
     "output_type": "stream",
     "text": [
      "(1751., 3., 0., 0., 3., 0., 0., nan)\n",
      "[('Year', '<f8'), ('Total', '<f8'), ('Gas', '<f8'), ('Liquids', '<f8'), ('Solids', '<f8'), ('Cement_Production', '<f8'), ('Gas_Flaring', '<f8'), ('Per_Capita', '<f8')]\n",
      "[1751. 1752. 1753. 1754. 1755. 1756. 1757. 1758. 1759. 1760. 1761. 1762.\n",
      " 1763. 1764. 1765. 1766. 1767. 1768. 1769. 1770. 1771. 1772. 1773. 1774.\n",
      " 1775. 1776. 1777. 1778. 1779. 1780. 1781. 1782. 1783. 1784. 1785. 1786.\n",
      " 1787. 1788. 1789. 1790. 1791. 1792. 1793. 1794. 1795. 1796. 1797. 1798.\n",
      " 1799. 1800. 1801. 1802. 1803. 1804. 1805. 1806. 1807. 1808. 1809. 1810.\n",
      " 1811. 1812. 1813. 1814. 1815. 1816. 1817. 1818. 1819. 1820. 1821. 1822.\n",
      " 1823. 1824. 1825. 1826. 1827. 1828. 1829. 1830. 1831. 1832. 1833. 1834.\n",
      " 1835. 1836. 1837. 1838. 1839. 1840. 1841. 1842. 1843. 1844. 1845. 1846.\n",
      " 1847. 1848. 1849. 1850. 1851. 1852. 1853. 1854. 1855. 1856. 1857. 1858.\n",
      " 1859. 1860. 1861. 1862. 1863. 1864. 1865. 1866. 1867. 1868. 1869. 1870.\n",
      " 1871. 1872. 1873. 1874. 1875. 1876. 1877. 1878. 1879. 1880. 1881. 1882.\n",
      " 1883. 1884. 1885. 1886. 1887. 1888. 1889. 1890. 1891. 1892. 1893. 1894.\n",
      " 1895. 1896. 1897. 1898. 1899. 1900. 1901. 1902. 1903. 1904. 1905. 1906.\n",
      " 1907. 1908. 1909. 1910. 1911. 1912. 1913. 1914. 1915. 1916. 1917. 1918.\n",
      " 1919. 1920. 1921. 1922. 1923. 1924. 1925. 1926. 1927. 1928. 1929. 1930.\n",
      " 1931. 1932. 1933. 1934. 1935. 1936. 1937. 1938. 1939. 1940. 1941. 1942.\n",
      " 1943. 1944. 1945. 1946. 1947. 1948. 1949. 1950. 1951. 1952. 1953. 1954.\n",
      " 1955. 1956. 1957. 1958. 1959. 1960. 1961. 1962. 1963. 1964. 1965. 1966.\n",
      " 1967. 1968. 1969. 1970. 1971. 1972. 1973. 1974. 1975. 1976. 1977. 1978.\n",
      " 1979. 1980. 1981. 1982. 1983. 1984. 1985. 1986. 1987. 1988. 1989. 1990.\n",
      " 1991. 1992. 1993. 1994. 1995. 1996. 1997. 1998. 1999. 2000. 2001. 2002.\n",
      " 2003. 2004. 2005. 2006. 2007. 2008. 2009. 2010. 2011.]\n",
      "[1751. 1752. 1753. 1754. 1755. 1756. 1757. 1758. 1759. 1760.]\n"
     ]
    }
   ],
   "source": [
    "# cool that's pretty close\n",
    "# now let's try it on real data!\n",
    "\n",
    "# we're going to use numpy's built in text file reader\n",
    "# names=True means use headers\n",
    "# delimiter=\",\" is the character seperating the columns\n",
    "# and many thanks to https://cdiac.ess-dive.lbl.gov/ftp/ndp030/global.1751_2011.ems\n",
    "# for the data\n",
    "data = np.genfromtxt(\"co2_emmissions.dat\", names=True, delimiter=\",\")\n",
    "\n",
    "# this structure is a numpy array, sometimes called a \"rec array\" because it has named columns\n",
    "# we can see a row\n",
    "print(data[0])\n",
    "# we can see the names of the columns\n",
    "print(data.dtype)\n",
    "# and access data by column\n",
    "print(data[\"Year\"])\n",
    "# and as with all arrays we can access sub-pieces\n",
    "print(data[\"Year\"][:10])"
   ]
  },
  {
   "cell_type": "code",
   "execution_count": 9,
   "metadata": {},
   "outputs": [
    {
     "data": {
      "text/plain": [
       "Text(0,0.5,'CO$_2$ (Mega-tons)')"
      ]
     },
     "execution_count": 9,
     "metadata": {},
     "output_type": "execute_result"
    },
    {
     "data": {
      "image/png": "[encoded data removed]",
      "text/plain": [
       "<Figure size 432x288 with 1 Axes>"
      ]
     },
     "metadata": {
      "needs_background": "light"
     },
     "output_type": "display_data"
    }
   ],
   "source": [
    "# cool lets see some trends!\n",
    "\n",
    "plt.scatter(data[\"Year\"], data[\"Total\"])\n",
    "plt.xlabel(\"Year\")\n",
    "plt.ylabel(\"CO$_2$ (Mega-tons)\")"
   ]
  },
  {
   "cell_type": "code",
   "execution_count": 31,
   "metadata": {},
   "outputs": [
    {
     "name": "stdout",
     "output_type": "stream",
     "text": [
      "[1751. 1752. 1753. 1754. 1755. 1756. 1757. 1758. 1759. 1760. 1761. 1762.\n",
      " 1763. 1764. 1765. 1766. 1767. 1768. 1769. 1770. 1771. 1772. 1773. 1774.\n",
      " 1775. 1776. 1777. 1778. 1779. 1780. 1781. 1782. 1783. 1784. 1785. 1786.\n",
      " 1787. 1788. 1789. 1790. 1791. 1792. 1793. 1794. 1795. 1796. 1797. 1798.\n",
      " 1799. 1800. 1801. 1802. 1803. 1804. 1805. 1806. 1807. 1808. 1809. 1810.\n",
      " 1811. 1812. 1813. 1814. 1815. 1816. 1817. 1818. 1819. 1820. 1821. 1822.\n",
      " 1823. 1824. 1825. 1826. 1827. 1828. 1829. 1830. 1831. 1832. 1833. 1834.\n",
      " 1835. 1836. 1837. 1838. 1839. 1840. 1841. 1842. 1843. 1844. 1845. 1846.\n",
      " 1847. 1848. 1849. 1850. 1851. 1852. 1853. 1854. 1855. 1856. 1857. 1858.\n",
      " 1859. 1860. 1861. 1862. 1863. 1864. 1865. 1866. 1867. 1868. 1869. 1870.\n",
      " 1871. 1872. 1873. 1874. 1875. 1876. 1877. 1878. 1879. 1880. 1881. 1882.\n",
      " 1883. 1884. 1885. 1886. 1887. 1888. 1889. 1890. 1891. 1892. 1893. 1894.\n",
      " 1895. 1896. 1897. 1898. 1899. 1900. 1901. 1902. 1903. 1904. 1905. 1906.\n",
      " 1907. 1908. 1909. 1910. 1911. 1912. 1913. 1914. 1915. 1916. 1917. 1918.\n",
      " 1919. 1920. 1921. 1922. 1923. 1924. 1925. 1926. 1927. 1928. 1929. 1930.\n",
      " 1931. 1932. 1933. 1934. 1935. 1936. 1937. 1938. 1939. 1940. 1941. 1942.\n",
      " 1943. 1944. 1945. 1946. 1947. 1948. 1949. 1950. 1951. 1952. 1953. 1954.\n",
      " 1955. 1956. 1957. 1958. 1959. 1960. 1961. 1962. 1963. 1964. 1965. 1966.\n",
      " 1967. 1968. 1969. 1970. 1971. 1972. 1973. 1974. 1975. 1976. 1977. 1978.\n",
      " 1979. 1980. 1981. 1982. 1983. 1984. 1985. 1986. 1987. 1988. 1989. 1990.\n",
      " 1991. 1992. 1993. 1994. 1995. 1996. 1997. 1998. 1999. 2000. 2001. 2002.\n",
      " 2003. 2004. 2005. 2006. 2007. 2008. 2009. 2010. 2011.] [8.04500603e+07 8.12585968e+07 8.20752593e+07 8.29001294e+07\n",
      " 8.37332895e+07 8.45748231e+07 8.54248142e+07 8.62833478e+07\n",
      " 8.71505099e+07 8.80263871e+07 8.89110670e+07 8.98046380e+07\n",
      " 9.07071897e+07 9.16188121e+07 9.25395964e+07 9.34696349e+07\n",
      " 9.44090203e+07 9.53578467e+07 9.63162090e+07 9.72842030e+07\n",
      " 9.82619255e+07 9.92494743e+07 1.00246948e+08 1.01254447e+08\n",
      " 1.02272071e+08 1.03299922e+08 1.04338104e+08 1.05386719e+08\n",
      " 1.06445873e+08 1.07515672e+08 1.08596222e+08 1.09687633e+08\n",
      " 1.10790012e+08 1.11903470e+08 1.13028118e+08 1.14164070e+08\n",
      " 1.15311438e+08 1.16470337e+08 1.17640883e+08 1.18823194e+08\n",
      " 1.20017387e+08 1.21223582e+08 1.22441899e+08 1.23672460e+08\n",
      " 1.24915389e+08 1.26170810e+08 1.27438848e+08 1.28719629e+08\n",
      " 1.30013283e+08 1.31319938e+08 1.32639726e+08 1.33972777e+08\n",
      " 1.35319226e+08 1.36679207e+08 1.38052855e+08 1.39440310e+08\n",
      " 1.40841708e+08 1.42257191e+08 1.43686899e+08 1.45130977e+08\n",
      " 1.46589567e+08 1.48062817e+08 1.49550873e+08 1.51053884e+08\n",
      " 1.52572001e+08 1.54105375e+08 1.55654160e+08 1.57218510e+08\n",
      " 1.58798583e+08 1.60394535e+08 1.62006527e+08 1.63634719e+08\n",
      " 1.65279276e+08 1.66940360e+08 1.68618138e+08 1.70312779e+08\n",
      " 1.72024451e+08 1.73753325e+08 1.75499575e+08 1.77263375e+08\n",
      " 1.79044902e+08 1.80844333e+08 1.82661849e+08 1.84497631e+08\n",
      " 1.86351863e+08 1.88224730e+08 1.90116420e+08 1.92027122e+08\n",
      " 1.93957027e+08 1.95906327e+08 1.97875219e+08 1.99863898e+08\n",
      " 2.01872563e+08 2.03901416e+08 2.05950659e+08 2.08020498e+08\n",
      " 2.10111139e+08 2.12222791e+08 2.14355665e+08 2.16509976e+08\n",
      " 2.18685937e+08 2.20883767e+08 2.23103686e+08 2.25345915e+08\n",
      " 2.27610679e+08 2.29898205e+08 2.32208720e+08 2.34542456e+08\n",
      " 2.36899647e+08 2.39280528e+08 2.41685338e+08 2.44114316e+08\n",
      " 2.46567705e+08 2.49045752e+08 2.51548703e+08 2.54076810e+08\n",
      " 2.56630324e+08 2.59209502e+08 2.61814601e+08 2.64445881e+08\n",
      " 2.67103607e+08 2.69788042e+08 2.72499457e+08 2.75238122e+08\n",
      " 2.78004312e+08 2.80798301e+08 2.83620371e+08 2.86470803e+08\n",
      " 2.89349883e+08 2.92257897e+08 2.95195138e+08 2.98161899e+08\n",
      " 3.01158475e+08 3.04185168e+08 3.07242280e+08 3.10330116e+08\n",
      " 3.13448986e+08 3.16599201e+08 3.19781075e+08 3.22994929e+08\n",
      " 3.26241082e+08 3.29519859e+08 3.32831589e+08 3.36176602e+08\n",
      " 3.39555233e+08 3.42967820e+08 3.46414704e+08 3.49896229e+08\n",
      " 3.53412745e+08 3.56964602e+08 3.60552156e+08 3.64175765e+08\n",
      " 3.67835793e+08 3.71532604e+08 3.75266568e+08 3.79038060e+08\n",
      " 3.82847456e+08 3.86695137e+08 3.90581488e+08 3.94506897e+08\n",
      " 3.98471757e+08 4.02476465e+08 4.06521421e+08 4.10607029e+08\n",
      " 4.14733698e+08 4.18901841e+08 4.23111874e+08 4.27364219e+08\n",
      " 4.31659301e+08 4.35997549e+08 4.40379398e+08 4.44805284e+08\n",
      " 4.49275652e+08 4.53790947e+08 4.58351622e+08 4.62958132e+08\n",
      " 4.67610939e+08 4.72310507e+08 4.77057306e+08 4.81851812e+08\n",
      " 4.86694503e+08 4.91585864e+08 4.96526384e+08 5.01516557e+08\n",
      " 5.06556883e+08 5.11647864e+08 5.16790010e+08 5.21983836e+08\n",
      " 5.27229861e+08 5.32528609e+08 5.37880611e+08 5.43286401e+08\n",
      " 5.48746520e+08 5.54261514e+08 5.59831935e+08 5.65458339e+08\n",
      " 5.71141290e+08 5.76881356e+08 5.82679110e+08 5.88535132e+08\n",
      " 5.94450008e+08 6.00424330e+08 6.06458695e+08 6.12553706e+08\n",
      " 6.18709974e+08 6.24928112e+08 6.31208744e+08 6.37552497e+08\n",
      " 6.43960007e+08 6.50431912e+08 6.56968862e+08 6.63571508e+08\n",
      " 6.70240513e+08 6.76976542e+08 6.83780270e+08 6.90652375e+08\n",
      " 6.97593547e+08 7.04604479e+08 7.11685872e+08 7.18838434e+08\n",
      " 7.26062880e+08 7.33359933e+08 7.40730323e+08 7.48174787e+08\n",
      " 7.55694068e+08 7.63288920e+08 7.70960101e+08 7.78708379e+08\n",
      " 7.86534528e+08 7.94439332e+08 8.02423580e+08 8.10488071e+08\n",
      " 8.18633611e+08 8.26861016e+08 8.35171107e+08 8.43564716e+08\n",
      " 8.52042683e+08 8.60605854e+08 8.69255087e+08 8.77991245e+08\n",
      " 8.86815204e+08 8.95727845e+08 9.04730060e+08 9.13822748e+08\n",
      " 9.23006819e+08 9.32283192e+08 9.41652794e+08 9.51116562e+08\n",
      " 9.60675442e+08 9.70330391e+08 9.80082373e+08 9.89932365e+08\n",
      " 9.99881351e+08 1.00993033e+09 1.02008029e+09 1.03033227e+09\n",
      " 1.04068728e+09 1.05114636e+09 1.06171056e+09 1.07238093e+09\n",
      " 1.08315854e+09]\n"
     ]
    },
    {
     "data": {
      "text/plain": [
       "Text(0,0.5,'CO$_2$ (Mega-tons)')"
      ]
     },
     "execution_count": 31,
     "metadata": {},
     "output_type": "execute_result"
    },
    {
     "data": {
      "image/png": "[encoded data removed]",
      "text/plain": [
       "<Figure size 432x288 with 1 Axes>"
      ]
     },
     "metadata": {
      "needs_background": "light"
     },
     "output_type": "display_data"
    }
   ],
   "source": [
    "# Ignoring how terrifying that is...\n",
    "# your assignment is to fit a trend to that data\n",
    "# you may want to try multiple functions, e.g. exponential and polynomial\n",
    "data = np.genfromtxt(\"co2_emmissions.dat\", names=True, delimiter=\",\")\n",
    "def line(a,x):\n",
    "    return a*np.exp(0.01*x)\n",
    "x =data[\"Year\"]\n",
    "x = data[\"Year\"]\n",
    "y = line(2,x)\n",
    "print(x,y)\n",
    "plt.scatter(x,y, c='r')\n",
    "plt.scatter(data[\"Year\"], data[\"Total\"])\n",
    "plt.xlabel(\"Year\")\n",
    "plt.ylabel(\"CO$_2$ (Mega-tons)\")"
   ]
  },
  {
   "cell_type": "code",
   "execution_count": null,
   "metadata": {},
   "outputs": [],
   "source": []
  }
 ],
 "metadata": {
  "kernelspec": {
   "display_name": "Python 3",
   "language": "python",
   "name": "python3"
  },
  "language_info": {
   "codemirror_mode": {
    "name": "ipython",
    "version": 3
   },
   "file_extension": ".py",
   "mimetype": "text/x-python",
   "name": "python",
   "nbconvert_exporter": "python",
   "pygments_lexer": "ipython3",
   "version": "3.7.0"
  }
 },
 "nbformat": 4,
 "nbformat_minor": 2
}
