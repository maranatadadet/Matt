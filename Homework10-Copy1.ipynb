{
 "cells": [
  {
   "cell_type": "code",
   "execution_count": 46,
   "metadata": {},
   "outputs": [
    {
     "ename": "SyntaxError",
     "evalue": "invalid syntax (<ipython-input-46-95011aed7317>, line 21)",
     "output_type": "error",
     "traceback": [
      "\u001b[0;36m  File \u001b[0;32m\"<ipython-input-46-95011aed7317>\"\u001b[0;36m, line \u001b[0;32m21\u001b[0m\n\u001b[0;31m    if switch > 0 and < 0.5:\u001b[0m\n\u001b[0m                      ^\u001b[0m\n\u001b[0;31mSyntaxError\u001b[0m\u001b[0;31m:\u001b[0m invalid syntax\n"
     ]
    }
   ],
   "source": [
    "# Three doors ABC\n",
    "# last one has the prize\n",
    "# pick one (middle one)\n",
    "#we'll eliminate the first one to provoke the thought of switching\n",
    "import numpy as np\n",
    "import random\n",
    "#from random import random.choice\n",
    "\n",
    "doors = ['door1','door2','door3']\n",
    "prize = random.choice(doors)\n",
    "doorpick = random.choice(doors)\n",
    "print(doorpick, prize)\n",
    "if prize == doorpick:\n",
    "    print('Congratulations! you won!!!')\n",
    "    \n",
    "elif prize == 'door1' and doorpick == 'door2':\n",
    "    remove = doors.remove('door3')\n",
    "    print('remaining doors are:',doors , 'would you like to switch?')\n",
    "    switch = random()\n",
    "    print(switch)\n",
    "    if switch < 0.5:\n",
    "        doorpick == 'door1'\n",
    "elif prize == 'door2' and doorpick == 'door1':\n",
    "    remove = doors.remove('door3')\n",
    "    print('remaining doors are:',doors , 'would you like to switch?')\n",
    "    switch = random()\n",
    "    print(switch)\n",
    "    if switch > 0 and < 0.5:\n",
    "        doorpick == 'door2'\n",
    "elif prize == 'door2' and doorpick == 'door3':\n",
    "    remove = doors.remove('door1')\n",
    "    print('remaining doors are:',doors , 'would you like to switch?')\n",
    "    switch = random()\n",
    "    print(switch)\n",
    "    if switch > 0 and < 0.5:\n",
    "        doorpick == 'door2'\n",
    "elif prize == 'door3' and doorpick == 'door2':\n",
    "    remove = doors.remove('door1')\n",
    "    print('remaining doors are:',doors , 'would you like to switch?')\n",
    "    switch = random()\n",
    "    print(switch)\n",
    "    if switch > 0 and < 0.5:\n",
    "        doorpick == 'door3'\n",
    "elif prize == 'door1' and doorpick == 'door3':\n",
    "    remove = doors.remove('door2')\n",
    "    print('remaining doors are:',doors , 'would you like to switch?')\n",
    "    switch = random()\n",
    "    print(switch)\n",
    "    if switch > 0 and < 0.5:\n",
    "        doorpick == 'door1'\n",
    "elif prize == 'door3' and doorpick == 'door1':\n",
    "    remove = doors.remove('door2')\n",
    "    print('remaining doors are:',doors , 'would you like to switch?')\n",
    "     switch = random()\n",
    "    print(switch)\n",
    "    if switch > 0 and < 0.5:\n",
    "        doorpick == 'door3'\n",
    "\n",
    "\n",
    "#for i in range(doors):\n",
    "    #pick_one_door = random()\n",
    "    #if pick_one_door != 2:\n",
    "       #3 print('LOSS')\n",
    "\n",
    "    \n"
   ]
  },
  {
   "cell_type": "code",
   "execution_count": null,
   "metadata": {},
   "outputs": [],
   "source": []
  },
  {
   "cell_type": "code",
   "execution_count": null,
   "metadata": {},
   "outputs": [],
   "source": []
  },
  {
   "cell_type": "code",
   "execution_count": null,
   "metadata": {},
   "outputs": [],
   "source": []
  }
 ],
 "metadata": {
  "kernelspec": {
   "display_name": "Python 3",
   "language": "python",
   "name": "python3"
  },
  "language_info": {
   "codemirror_mode": {
    "name": "ipython",
    "version": 3
   },
   "file_extension": ".py",
   "mimetype": "text/x-python",
   "name": "python",
   "nbconvert_exporter": "python",
   "pygments_lexer": "ipython3",
   "version": "3.7.2"
  }
 },
 "nbformat": 4,
 "nbformat_minor": 2
}
